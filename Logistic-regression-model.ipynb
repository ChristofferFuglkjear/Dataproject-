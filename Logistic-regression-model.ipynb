{
 "cells": [
  {
   "cell_type": "markdown",
   "metadata": {},
   "source": [
    "# Logistic regression \n",
    "This is the jupyter notebook for a binary classification with a logistic regression. \n",
    "# (skal skrive mere ,ideen bag ved, hvad vi generelt gør  )"
   ]
  },
  {
   "cell_type": "code",
   "execution_count": 192,
   "metadata": {},
   "outputs": [],
   "source": [
    "import numpy as np \n",
    "import pandas as pd\n",
    "import sklearn\n",
    "import matplotlib.pyplot as plt\n",
    "import seaborn as sns\n",
    "from sklearn import metrics\n",
    "import shap\n",
    "from sklearn.model_selection import train_test_split\n",
    "from sklearn.linear_model import LogisticRegression\n",
    "from sklearn.preprocessing import MinMaxScaler\n",
    "import shap"
   ]
  },
  {
   "cell_type": "code",
   "execution_count": 193,
   "metadata": {},
   "outputs": [],
   "source": [
    "\n",
    "np.random.seed(73101)"
   ]
  },
  {
   "cell_type": "code",
   "execution_count": 194,
   "metadata": {},
   "outputs": [
    {
     "data": {
      "text/html": [
       "<div>\n",
       "<style scoped>\n",
       "    .dataframe tbody tr th:only-of-type {\n",
       "        vertical-align: middle;\n",
       "    }\n",
       "\n",
       "    .dataframe tbody tr th {\n",
       "        vertical-align: top;\n",
       "    }\n",
       "\n",
       "    .dataframe thead th {\n",
       "        text-align: right;\n",
       "    }\n",
       "</style>\n",
       "<table border=\"1\" class=\"dataframe\">\n",
       "  <thead>\n",
       "    <tr style=\"text-align: right;\">\n",
       "      <th></th>\n",
       "      <th>Anteroposterior 1.1</th>\n",
       "      <th>Anteroposterior 2.1</th>\n",
       "      <th>Vertical 1.1</th>\n",
       "      <th>Vertical 2.1</th>\n",
       "      <th>Transverse.1</th>\n",
       "      <th>Crowding.1</th>\n",
       "      <th>Spacing.1</th>\n",
       "      <th>Tooth shape/size.1\\n</th>\n",
       "      <th>Pan 2.1\\n</th>\n",
       "      <th>Anteroposterior 1.2</th>\n",
       "      <th>Anteroposterior 2.2</th>\n",
       "      <th>Vertical 1.2</th>\n",
       "      <th>Vertical 2.2</th>\n",
       "      <th>Transverse.2</th>\n",
       "      <th>Crowding.2</th>\n",
       "      <th>Spacing.2</th>\n",
       "      <th>Tooth shape/size.2\\n</th>\n",
       "      <th>Pan 2.2\\n</th>\n",
       "      <th>Total Row Score C</th>\n",
       "    </tr>\n",
       "  </thead>\n",
       "  <tbody>\n",
       "    <tr>\n",
       "      <th>0</th>\n",
       "      <td>9</td>\n",
       "      <td>0</td>\n",
       "      <td>0</td>\n",
       "      <td>0</td>\n",
       "      <td>6</td>\n",
       "      <td>0</td>\n",
       "      <td>4</td>\n",
       "      <td>0</td>\n",
       "      <td>4</td>\n",
       "      <td>0</td>\n",
       "      <td>0</td>\n",
       "      <td>0</td>\n",
       "      <td>0</td>\n",
       "      <td>6</td>\n",
       "      <td>0</td>\n",
       "      <td>4</td>\n",
       "      <td>0</td>\n",
       "      <td>3</td>\n",
       "      <td>0</td>\n",
       "    </tr>\n",
       "    <tr>\n",
       "      <th>1</th>\n",
       "      <td>9</td>\n",
       "      <td>0</td>\n",
       "      <td>0</td>\n",
       "      <td>0</td>\n",
       "      <td>6</td>\n",
       "      <td>1</td>\n",
       "      <td>1</td>\n",
       "      <td>1</td>\n",
       "      <td>3</td>\n",
       "      <td>9</td>\n",
       "      <td>0</td>\n",
       "      <td>2</td>\n",
       "      <td>4</td>\n",
       "      <td>6</td>\n",
       "      <td>0</td>\n",
       "      <td>0</td>\n",
       "      <td>1</td>\n",
       "      <td>3</td>\n",
       "      <td>8</td>\n",
       "    </tr>\n",
       "    <tr>\n",
       "      <th>2</th>\n",
       "      <td>0</td>\n",
       "      <td>0</td>\n",
       "      <td>0</td>\n",
       "      <td>0</td>\n",
       "      <td>2</td>\n",
       "      <td>3</td>\n",
       "      <td>1</td>\n",
       "      <td>0</td>\n",
       "      <td>4</td>\n",
       "      <td>0</td>\n",
       "      <td>0</td>\n",
       "      <td>0</td>\n",
       "      <td>0</td>\n",
       "      <td>6</td>\n",
       "      <td>1</td>\n",
       "      <td>3</td>\n",
       "      <td>0</td>\n",
       "      <td>0</td>\n",
       "      <td>9</td>\n",
       "    </tr>\n",
       "    <tr>\n",
       "      <th>3</th>\n",
       "      <td>9</td>\n",
       "      <td>0</td>\n",
       "      <td>1</td>\n",
       "      <td>0</td>\n",
       "      <td>6</td>\n",
       "      <td>4</td>\n",
       "      <td>0</td>\n",
       "      <td>1</td>\n",
       "      <td>4</td>\n",
       "      <td>9</td>\n",
       "      <td>0</td>\n",
       "      <td>2</td>\n",
       "      <td>0</td>\n",
       "      <td>6</td>\n",
       "      <td>4</td>\n",
       "      <td>0</td>\n",
       "      <td>1</td>\n",
       "      <td>4</td>\n",
       "      <td>9</td>\n",
       "    </tr>\n",
       "    <tr>\n",
       "      <th>4</th>\n",
       "      <td>0</td>\n",
       "      <td>0</td>\n",
       "      <td>0</td>\n",
       "      <td>0</td>\n",
       "      <td>6</td>\n",
       "      <td>0</td>\n",
       "      <td>0</td>\n",
       "      <td>0</td>\n",
       "      <td>4</td>\n",
       "      <td>0</td>\n",
       "      <td>0</td>\n",
       "      <td>0</td>\n",
       "      <td>0</td>\n",
       "      <td>2</td>\n",
       "      <td>0</td>\n",
       "      <td>4</td>\n",
       "      <td>0</td>\n",
       "      <td>3</td>\n",
       "      <td>13</td>\n",
       "    </tr>\n",
       "    <tr>\n",
       "      <th>...</th>\n",
       "      <td>...</td>\n",
       "      <td>...</td>\n",
       "      <td>...</td>\n",
       "      <td>...</td>\n",
       "      <td>...</td>\n",
       "      <td>...</td>\n",
       "      <td>...</td>\n",
       "      <td>...</td>\n",
       "      <td>...</td>\n",
       "      <td>...</td>\n",
       "      <td>...</td>\n",
       "      <td>...</td>\n",
       "      <td>...</td>\n",
       "      <td>...</td>\n",
       "      <td>...</td>\n",
       "      <td>...</td>\n",
       "      <td>...</td>\n",
       "      <td>...</td>\n",
       "      <td>...</td>\n",
       "    </tr>\n",
       "    <tr>\n",
       "      <th>112</th>\n",
       "      <td>12</td>\n",
       "      <td>0</td>\n",
       "      <td>3</td>\n",
       "      <td>1</td>\n",
       "      <td>6</td>\n",
       "      <td>4</td>\n",
       "      <td>0</td>\n",
       "      <td>1</td>\n",
       "      <td>4</td>\n",
       "      <td>9</td>\n",
       "      <td>0</td>\n",
       "      <td>0</td>\n",
       "      <td>0</td>\n",
       "      <td>6</td>\n",
       "      <td>3</td>\n",
       "      <td>0</td>\n",
       "      <td>1</td>\n",
       "      <td>0</td>\n",
       "      <td>3</td>\n",
       "    </tr>\n",
       "    <tr>\n",
       "      <th>113</th>\n",
       "      <td>9</td>\n",
       "      <td>0</td>\n",
       "      <td>1</td>\n",
       "      <td>0</td>\n",
       "      <td>6</td>\n",
       "      <td>0</td>\n",
       "      <td>3</td>\n",
       "      <td>0</td>\n",
       "      <td>4</td>\n",
       "      <td>9</td>\n",
       "      <td>0</td>\n",
       "      <td>0</td>\n",
       "      <td>0</td>\n",
       "      <td>6</td>\n",
       "      <td>0</td>\n",
       "      <td>3</td>\n",
       "      <td>0</td>\n",
       "      <td>3</td>\n",
       "      <td>3</td>\n",
       "    </tr>\n",
       "    <tr>\n",
       "      <th>114</th>\n",
       "      <td>9</td>\n",
       "      <td>0</td>\n",
       "      <td>4</td>\n",
       "      <td>0</td>\n",
       "      <td>0</td>\n",
       "      <td>4</td>\n",
       "      <td>0</td>\n",
       "      <td>0</td>\n",
       "      <td>4</td>\n",
       "      <td>12</td>\n",
       "      <td>0</td>\n",
       "      <td>3</td>\n",
       "      <td>4</td>\n",
       "      <td>6</td>\n",
       "      <td>4</td>\n",
       "      <td>0</td>\n",
       "      <td>0</td>\n",
       "      <td>3</td>\n",
       "      <td>4</td>\n",
       "    </tr>\n",
       "    <tr>\n",
       "      <th>115</th>\n",
       "      <td>12</td>\n",
       "      <td>0</td>\n",
       "      <td>0</td>\n",
       "      <td>0</td>\n",
       "      <td>6</td>\n",
       "      <td>3</td>\n",
       "      <td>0</td>\n",
       "      <td>0</td>\n",
       "      <td>4</td>\n",
       "      <td>9</td>\n",
       "      <td>0</td>\n",
       "      <td>0</td>\n",
       "      <td>0</td>\n",
       "      <td>6</td>\n",
       "      <td>4</td>\n",
       "      <td>0</td>\n",
       "      <td>0</td>\n",
       "      <td>4</td>\n",
       "      <td>12</td>\n",
       "    </tr>\n",
       "    <tr>\n",
       "      <th>116</th>\n",
       "      <td>9</td>\n",
       "      <td>1</td>\n",
       "      <td>0</td>\n",
       "      <td>0</td>\n",
       "      <td>6</td>\n",
       "      <td>3</td>\n",
       "      <td>0</td>\n",
       "      <td>0</td>\n",
       "      <td>4</td>\n",
       "      <td>12</td>\n",
       "      <td>3</td>\n",
       "      <td>2</td>\n",
       "      <td>3</td>\n",
       "      <td>6</td>\n",
       "      <td>3</td>\n",
       "      <td>0</td>\n",
       "      <td>1</td>\n",
       "      <td>4</td>\n",
       "      <td>6</td>\n",
       "    </tr>\n",
       "  </tbody>\n",
       "</table>\n",
       "<p>117 rows × 19 columns</p>\n",
       "</div>"
      ],
      "text/plain": [
       "     Anteroposterior 1.1  Anteroposterior 2.1  Vertical 1.1  Vertical 2.1  \\\n",
       "0                      9                    0             0             0   \n",
       "1                      9                    0             0             0   \n",
       "2                      0                    0             0             0   \n",
       "3                      9                    0             1             0   \n",
       "4                      0                    0             0             0   \n",
       "..                   ...                  ...           ...           ...   \n",
       "112                   12                    0             3             1   \n",
       "113                    9                    0             1             0   \n",
       "114                    9                    0             4             0   \n",
       "115                   12                    0             0             0   \n",
       "116                    9                    1             0             0   \n",
       "\n",
       "     Transverse.1  Crowding.1  Spacing.1  Tooth shape/size.1\\n  Pan 2.1\\n  \\\n",
       "0               6           0          4                     0          4   \n",
       "1               6           1          1                     1          3   \n",
       "2               2           3          1                     0          4   \n",
       "3               6           4          0                     1          4   \n",
       "4               6           0          0                     0          4   \n",
       "..            ...         ...        ...                   ...        ...   \n",
       "112             6           4          0                     1          4   \n",
       "113             6           0          3                     0          4   \n",
       "114             0           4          0                     0          4   \n",
       "115             6           3          0                     0          4   \n",
       "116             6           3          0                     0          4   \n",
       "\n",
       "     Anteroposterior 1.2  Anteroposterior 2.2  Vertical 1.2  Vertical 2.2  \\\n",
       "0                      0                    0             0             0   \n",
       "1                      9                    0             2             4   \n",
       "2                      0                    0             0             0   \n",
       "3                      9                    0             2             0   \n",
       "4                      0                    0             0             0   \n",
       "..                   ...                  ...           ...           ...   \n",
       "112                    9                    0             0             0   \n",
       "113                    9                    0             0             0   \n",
       "114                   12                    0             3             4   \n",
       "115                    9                    0             0             0   \n",
       "116                   12                    3             2             3   \n",
       "\n",
       "     Transverse.2  Crowding.2  Spacing.2  Tooth shape/size.2\\n  Pan 2.2\\n  \\\n",
       "0               6           0          4                     0          3   \n",
       "1               6           0          0                     1          3   \n",
       "2               6           1          3                     0          0   \n",
       "3               6           4          0                     1          4   \n",
       "4               2           0          4                     0          3   \n",
       "..            ...         ...        ...                   ...        ...   \n",
       "112             6           3          0                     1          0   \n",
       "113             6           0          3                     0          3   \n",
       "114             6           4          0                     0          3   \n",
       "115             6           4          0                     0          4   \n",
       "116             6           3          0                     1          4   \n",
       "\n",
       "     Total Row Score C  \n",
       "0                    0  \n",
       "1                    8  \n",
       "2                    9  \n",
       "3                    9  \n",
       "4                   13  \n",
       "..                 ...  \n",
       "112                  3  \n",
       "113                  3  \n",
       "114                  4  \n",
       "115                 12  \n",
       "116                  6  \n",
       "\n",
       "[117 rows x 19 columns]"
      ]
     },
     "execution_count": 194,
     "metadata": {},
     "output_type": "execute_result"
    }
   ],
   "source": [
    "df = pd.read_csv('tester-python.csv',sep=';', header=0, decimal=',' )\n",
    "df"
   ]
  },
  {
   "cell_type": "code",
   "execution_count": 195,
   "metadata": {},
   "outputs": [],
   "source": [
    "def pin_update(row):\n",
    "    if row[\"Total Row Score C\"] <= 5:\n",
    "        return 0\n",
    "    else:\n",
    "        return 1"
   ]
  },
  {
   "cell_type": "code",
   "execution_count": 196,
   "metadata": {},
   "outputs": [],
   "source": [
    "Output = df.apply(pin_update, axis=1)\n",
    "\n",
    "df['Output'] = Output\n",
    "\n",
    "\n",
    "df1 = df[[\"Anteroposterior 1.1\",\n",
    "          'Anteroposterior 2.1',\n",
    "          'Vertical 1.1',\n",
    "          'Vertical 2.1',\n",
    "          'Transverse.1',\n",
    "          'Crowding.1',\n",
    "          'Spacing.1',\n",
    "          'Tooth shape/size.1\\n',\n",
    "          'Pan 2.1\\n',\n",
    "          'Anteroposterior 1.2',\n",
    "          'Anteroposterior 2.2',\n",
    "          'Vertical 1.2',\n",
    "          'Vertical 2.2',\n",
    "          'Transverse.2',\n",
    "          'Crowding.2',\n",
    "          'Spacing.2',\n",
    "          'Tooth shape/size.2\\n',\n",
    "           'Pan 2.2\\n',\n",
    "          'Output']]\n",
    "\n",
    "\n",
    "\n",
    "df1 = df1.iloc[1:, :]\n",
    "\n",
    "df1 = df1.dropna()\n",
    "\n",
    "target_column = [\"Output\"]\n",
    "numerical_column = df1.columns.drop(target_column)\n",
    "output_rows = df1[target_column]\n",
    "df1.drop(target_column,axis=1,inplace=True)\n",
    "\n",
    "scaler = MinMaxScaler()\n",
    "df1 = scaler.fit_transform(df1)\n",
    "\n",
    "X_train, X_test, y_train, y_test = train_test_split(df1, output_rows, test_size=0.25, shuffle=True)"
   ]
  },
  {
   "cell_type": "markdown",
   "metadata": {},
   "source": [
    "We start out by initializing a logistic regression model with the sklearn library. We then fit the model to the training data and make predictions on the test data. We evaluate the model by calculating the accuracy score and the confusion matrix."
   ]
  },
  {
   "cell_type": "code",
   "execution_count": 197,
   "metadata": {},
   "outputs": [
    {
     "name": "stderr",
     "output_type": "stream",
     "text": [
      "/Library/Frameworks/Python.framework/Versions/3.11/lib/python3.11/site-packages/sklearn/utils/validation.py:1300: DataConversionWarning: A column-vector y was passed when a 1d array was expected. Please change the shape of y to (n_samples, ), for example using ravel().\n",
      "  y = column_or_1d(y, warn=True)\n"
     ]
    }
   ],
   "source": [
    "logisticRegr = LogisticRegression()\n",
    "logisticRegr = logisticRegr.fit(X_train, y_train)"
   ]
  },
  {
   "cell_type": "code",
   "execution_count": 198,
   "metadata": {},
   "outputs": [
    {
     "name": "stdout",
     "output_type": "stream",
     "text": [
      "0.6896551724137931\n"
     ]
    }
   ],
   "source": [
    "prediction1 = logisticRegr.predict(X_test)\n",
    "score = logisticRegr.score(X_test, y_test)\n",
    "\n",
    "print(score)\n"
   ]
  },
  {
   "cell_type": "markdown",
   "metadata": {},
   "source": [
    "Here is a accuracy score of the model.\n"
   ]
  },
  {
   "cell_type": "code",
   "execution_count": 199,
   "metadata": {},
   "outputs": [],
   "source": [
    "cm = metrics.confusion_matrix(y_test, prediction1)\n",
    "predi = []\n",
    "for i in range(10):\n",
    "    prediction1 = logisticRegr.predict(X_test)\n",
    "    cm = metrics.confusion_matrix(y_test, prediction1)\n",
    "    predi.append(cm)"
   ]
  },
  {
   "cell_type": "code",
   "execution_count": 200,
   "metadata": {},
   "outputs": [
    {
     "name": "stdout",
     "output_type": "stream",
     "text": [
      "96368\n"
     ]
    }
   ],
   "source": [
    "print(r)"
   ]
  },
  {
   "cell_type": "code",
   "execution_count": 201,
   "metadata": {},
   "outputs": [
    {
     "data": {
      "image/png": "[encoded data removed]",
      "text/plain": [
       "<Figure size 900x900 with 2 Axes>"
      ]
     },
     "metadata": {},
     "output_type": "display_data"
    }
   ],
   "source": [
    "plt.figure(figsize=(9,9))\n",
    "sns.heatmap(cm, annot=True, fmt=\".3f\", linewidths=.5, square = False, cmap = 'viridis');\n",
    "plt.ylabel('Actual label');\n",
    "plt.xlabel('Predicted label');\n",
    "all_sample_title = 'Accuracy Score: {0}'.format(score)\n",
    "plt.title(all_sample_title, size = 15);"
   ]
  },
  {
   "cell_type": "markdown",
   "metadata": {},
   "source": [
    "The confusion matrix shows how the prediction on x_test is compared to the actual value. The diagonal elements represent the number of points for which the predicted label is equal to the true label, while off-diagonal elements are those that are misclassified by the model. The higher the diagonal values of the confusion matrix the better, indicating many correct predictions."
   ]
  },
  {
   "cell_type": "code",
   "execution_count": 202,
   "metadata": {},
   "outputs": [
    {
     "data": {
      "text/plain": [
       "array([[2.25092513e-07, 9.99999775e-01]])"
      ]
     },
     "execution_count": 202,
     "metadata": {},
     "output_type": "execute_result"
    }
   ],
   "source": [
    "xnew = np.array([[0, 0, 0, 0, 6, 0, 2, 0 ,0,\n",
    "                 9, 0, 0, 0, 6, 0, 2, 0, 0]])\n",
    "\n",
    "\n",
    "\n",
    "logisticRegr.predict_proba(xnew.reshape(1,18))\n"
   ]
  },
  {
   "cell_type": "markdown",
   "metadata": {},
   "source": [
    "Here `xnew` is a test case of our model, at the output is the prediction of class. The input mimics the input of which the model is trained on"
   ]
  },
  {
   "cell_type": "code",
   "execution_count": 203,
   "metadata": {},
   "outputs": [
    {
     "data": {
      "image/png": "[encoded data removed]",
      "text/plain": [
       "<Figure size 800x870 with 1 Axes>"
      ]
     },
     "metadata": {},
     "output_type": "display_data"
    }
   ],
   "source": [
    "explainer = shap.Explainer(logisticRegr, X_train )\n",
    "shap_values = explainer(X_test)\n",
    "\n",
    "shap.summary_plot(shap_values, X_test, plot_type=\"bar\", feature_names=df.columns, class_names=[0,1])"
   ]
  },
  {
   "cell_type": "markdown",
   "metadata": {},
   "source": [
    "The above shap shows what magitude each feature in the model have on the prediction. The higher the magnitude, the more the feature affects the prediction. This is quite relevant for the dentist who wil use our model"
   ]
  },
  {
   "cell_type": "markdown",
   "metadata": {},
   "source": [
    "# Bootstrap logistic regression\n",
    "\n",
    "The reason behind a interative logistic regression is to get at more stable result, by taking the mean of multiple models, we get a more stable result. But perhaps not more reliable, this is mostly used in out Streamlit model. because we need a more stable output when the dentist is to use the model and predited outcome of a patient."
   ]
  },
  {
   "cell_type": "code",
   "execution_count": 204,
   "metadata": {},
   "outputs": [
    {
     "name": "stdout",
     "output_type": "stream",
     "text": [
      "Accuracy: 0.6370689655172413\n",
      "Confusion matrix: \n",
      " [[1956 1009]\n",
      " [1096 1739]]\n"
     ]
    }
   ],
   "source": [
    "acc = []\n",
    "prediction = []\n",
    "confusion_matrix = []\n",
    "\n",
    "for i in range(200):\n",
    "    X_train, X_test, y_train, y_test = train_test_split(df1, output_rows, test_size=0.25, shuffle=True)\n",
    "    \n",
    "    clf = LogisticRegression()\n",
    "    \n",
    "    clf = clf.fit(X_train, y_train.values.ravel())\n",
    "    \n",
    "    pre = clf.predict(X_test)\n",
    "    \n",
    "    cm = metrics.confusion_matrix(y_test, pre)\n",
    "    \n",
    "    acc.append(clf.score(X_test, y_test))\n",
    "    confusion_matrix.append(cm)\n",
    "    prediction.append(pre)\n",
    "    \n",
    "print(f\"Accuracy: {np.mean(np.array(acc))}\")\n",
    "print(f\"Confusion matrix: \\n {sum(confusion_matrix)}\")\n"
   ]
  },
  {
   "cell_type": "markdown",
   "metadata": {},
   "source": [
    "As the output show the accuracy of the model is more stable and dont fluxate as much as the normal logistic regression model."
   ]
  },
  {
   "cell_type": "code",
   "execution_count": null,
   "metadata": {},
   "outputs": [],
   "source": []
  }
 ],
 "metadata": {
  "kernelspec": {
   "display_name": "Python 3",
   "language": "python",
   "name": "python3"
  },
  "language_info": {
   "codemirror_mode": {
    "name": "ipython",
    "version": 3
   },
   "file_extension": ".py",
   "mimetype": "text/x-python",
   "name": "python",
   "nbconvert_exporter": "python",
   "pygments_lexer": "ipython3",
   "version": "3.11.1"
  }
 },
 "nbformat": 4,
 "nbformat_minor": 2
}
