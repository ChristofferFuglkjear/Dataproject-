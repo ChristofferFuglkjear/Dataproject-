{
 "cells": [
  {
   "cell_type": "markdown",
   "metadata": {},
   "source": [
    "# multiclass-prediction "
   ]
  },
  {
   "cell_type": "code",
   "execution_count": 267,
   "metadata": {},
   "outputs": [],
   "source": [
    "\n",
    "import pandas as pd\n",
    "import numpy as np\n",
    "from keras.models import Sequential\n",
    "from keras.layers import Dense\n",
    "import sklearn\n",
    "import keras\n",
    "from tensorflow.keras.optimizers import Adam\n",
    "from scikeras.wrappers import KerasRegressor\n",
    "from keras.layers import Dropout\n",
    "from keras.utils import to_categorical\n",
    "from sklearn.model_selection import cross_val_score\n",
    "from sklearn.model_selection import KFold\n",
    "from sklearn.preprocessing import LabelEncoder\n",
    "from sklearn.model_selection import train_test_split\n",
    "from sklearn.pipeline import Pipeline\n",
    "from sklearn.metrics import confusion_matrix,ConfusionMatrixDisplay\n",
    "import tensorflow as tf\n",
    "import torch\n",
    "from sklearn.preprocessing import MinMaxScaler\n",
    "import matplotlib.pyplot as plt"
   ]
  },
  {
   "cell_type": "code",
   "execution_count": 268,
   "metadata": {},
   "outputs": [],
   "source": [
    "df = pd.read_csv('Data for python.csv', sep=';', header=1, index_col=0, decimal=',')\n",
    "df = df.fillna(0)\n",
    "df = df.drop(columns=['Id'])\n",
    "df = df.drop(columns=['ScandcleftID'])\n",
    "df = df.drop(columns=['Født'])\n",
    "df = df.drop(columns=['Materialedato A'])\n",
    "df = df.drop(columns=['Materialedato B'])\n",
    "df = df.drop(columns=['Materialedato C'])\n"
   ]
  },
  {
   "cell_type": "code",
   "execution_count": 269,
   "metadata": {},
   "outputs": [],
   "source": [
    "def pin_update(row):\n",
    "    if row[\"Total Row Score C\"] <= 1:\n",
    "        return 1\n",
    "    else:\n",
    "        return 0"
   ]
  },
  {
   "cell_type": "code",
   "execution_count": 270,
   "metadata": {},
   "outputs": [],
   "source": [
    "def pin_update1(row):\n",
    "     if 1 < row[\"Total Row Score C\"] <= 9:\n",
    "          return 1\n",
    "     else:\n",
    "          return 0 "
   ]
  },
  {
   "cell_type": "code",
   "execution_count": 271,
   "metadata": {},
   "outputs": [],
   "source": [
    "def pin_update2(row):\n",
    "    if row[\"Total Row Score C\"] > 9:\n",
    "        return 1\n",
    "    return 0 "
   ]
  },
  {
   "cell_type": "code",
   "execution_count": 272,
   "metadata": {},
   "outputs": [],
   "source": [
    "\n",
    "#  # create model\n",
    "# model = Sequential()\n",
    "# model.add(Dense(32, input_dim=19, activation='relu'))\n",
    "# model.add(Dense(16, activation='relu'))\n",
    "# model.add(Dense(8,activation='relu'))\n",
    "# model.add(Dense(3, activation='softmax'))\n",
    "#  # Compile model\n",
    "# model.compile(loss='categorical_crossentropy' , optimizer='adam', metrics=['accuracy'])\n"
   ]
  },
  {
   "cell_type": "code",
   "execution_count": 273,
   "metadata": {},
   "outputs": [],
   "source": [
    "def total_row_score(vector):\n",
    "    vector[7] = sum(vector[0:7])\n",
    "    vector[16] = sum(vector[9:16])\n",
    "    print(vector)"
   ]
  },
  {
   "cell_type": "code",
   "execution_count": 274,
   "metadata": {},
   "outputs": [
    {
     "data": {
      "text/html": [
       "<div>\n",
       "<style scoped>\n",
       "    .dataframe tbody tr th:only-of-type {\n",
       "        vertical-align: middle;\n",
       "    }\n",
       "\n",
       "    .dataframe tbody tr th {\n",
       "        vertical-align: top;\n",
       "    }\n",
       "\n",
       "    .dataframe thead th {\n",
       "        text-align: right;\n",
       "    }\n",
       "</style>\n",
       "<table border=\"1\" class=\"dataframe\">\n",
       "  <thead>\n",
       "    <tr style=\"text-align: right;\">\n",
       "      <th></th>\n",
       "      <th>Kassenr</th>\n",
       "      <th>Anteroposterior 1</th>\n",
       "      <th>Anteroposterior 2</th>\n",
       "      <th>Vertical 1</th>\n",
       "      <th>Vertical 2</th>\n",
       "      <th>Transverse</th>\n",
       "      <th>Crowding</th>\n",
       "      <th>Spacing</th>\n",
       "      <th>Tooth shape/size\\r\\n</th>\n",
       "      <th>Pan 1</th>\n",
       "      <th>...</th>\n",
       "      <th>Crowding .2</th>\n",
       "      <th>Spacing.2</th>\n",
       "      <th>Tooth shape/size\\r\\n.2</th>\n",
       "      <th>Pan 1.2</th>\n",
       "      <th>Pan 2\\r\\n.2</th>\n",
       "      <th>Total Row Score C</th>\n",
       "      <th>Goslon Score C</th>\n",
       "      <th>Output</th>\n",
       "      <th>Output1</th>\n",
       "      <th>Output2</th>\n",
       "    </tr>\n",
       "    <tr>\n",
       "      <th>Center</th>\n",
       "      <th></th>\n",
       "      <th></th>\n",
       "      <th></th>\n",
       "      <th></th>\n",
       "      <th></th>\n",
       "      <th></th>\n",
       "      <th></th>\n",
       "      <th></th>\n",
       "      <th></th>\n",
       "      <th></th>\n",
       "      <th></th>\n",
       "      <th></th>\n",
       "      <th></th>\n",
       "      <th></th>\n",
       "      <th></th>\n",
       "      <th></th>\n",
       "      <th></th>\n",
       "      <th></th>\n",
       "      <th></th>\n",
       "      <th></th>\n",
       "      <th></th>\n",
       "    </tr>\n",
       "  </thead>\n",
       "  <tbody>\n",
       "    <tr>\n",
       "      <th>H</th>\n",
       "      <td>1</td>\n",
       "      <td>0.0</td>\n",
       "      <td>0.0</td>\n",
       "      <td>0.0</td>\n",
       "      <td>0.0</td>\n",
       "      <td>0.0</td>\n",
       "      <td>0.0</td>\n",
       "      <td>0.0</td>\n",
       "      <td>0.0</td>\n",
       "      <td>0.0</td>\n",
       "      <td>...</td>\n",
       "      <td>0.0</td>\n",
       "      <td>0.0</td>\n",
       "      <td>0.0</td>\n",
       "      <td>0.0</td>\n",
       "      <td>0.0</td>\n",
       "      <td>0</td>\n",
       "      <td>0.0</td>\n",
       "      <td>1</td>\n",
       "      <td>0</td>\n",
       "      <td>0</td>\n",
       "    </tr>\n",
       "    <tr>\n",
       "      <th>H</th>\n",
       "      <td>2</td>\n",
       "      <td>9.0</td>\n",
       "      <td>0.0</td>\n",
       "      <td>0.0</td>\n",
       "      <td>0.0</td>\n",
       "      <td>6.0</td>\n",
       "      <td>0.0</td>\n",
       "      <td>4.0</td>\n",
       "      <td>0.0</td>\n",
       "      <td>0.0</td>\n",
       "      <td>...</td>\n",
       "      <td>0.0</td>\n",
       "      <td>0.0</td>\n",
       "      <td>0.0</td>\n",
       "      <td>0.0</td>\n",
       "      <td>0.0</td>\n",
       "      <td>0</td>\n",
       "      <td>1.0</td>\n",
       "      <td>1</td>\n",
       "      <td>0</td>\n",
       "      <td>0</td>\n",
       "    </tr>\n",
       "    <tr>\n",
       "      <th>H</th>\n",
       "      <td>3</td>\n",
       "      <td>9.0</td>\n",
       "      <td>0.0</td>\n",
       "      <td>0.0</td>\n",
       "      <td>0.0</td>\n",
       "      <td>6.0</td>\n",
       "      <td>1.0</td>\n",
       "      <td>1.0</td>\n",
       "      <td>1.0</td>\n",
       "      <td>0.0</td>\n",
       "      <td>...</td>\n",
       "      <td>0.0</td>\n",
       "      <td>0.0</td>\n",
       "      <td>0.0</td>\n",
       "      <td>0.0</td>\n",
       "      <td>0.0</td>\n",
       "      <td>8</td>\n",
       "      <td>1.0</td>\n",
       "      <td>0</td>\n",
       "      <td>1</td>\n",
       "      <td>0</td>\n",
       "    </tr>\n",
       "    <tr>\n",
       "      <th>H</th>\n",
       "      <td>4</td>\n",
       "      <td>0.0</td>\n",
       "      <td>0.0</td>\n",
       "      <td>0.0</td>\n",
       "      <td>0.0</td>\n",
       "      <td>2.0</td>\n",
       "      <td>3.0</td>\n",
       "      <td>1.0</td>\n",
       "      <td>0.0</td>\n",
       "      <td>0.0</td>\n",
       "      <td>...</td>\n",
       "      <td>0.0</td>\n",
       "      <td>0.0</td>\n",
       "      <td>0.0</td>\n",
       "      <td>0.0</td>\n",
       "      <td>0.0</td>\n",
       "      <td>9</td>\n",
       "      <td>1.0</td>\n",
       "      <td>0</td>\n",
       "      <td>1</td>\n",
       "      <td>0</td>\n",
       "    </tr>\n",
       "    <tr>\n",
       "      <th>H</th>\n",
       "      <td>5</td>\n",
       "      <td>9.0</td>\n",
       "      <td>0.0</td>\n",
       "      <td>1.0</td>\n",
       "      <td>0.0</td>\n",
       "      <td>6.0</td>\n",
       "      <td>4.0</td>\n",
       "      <td>0.0</td>\n",
       "      <td>1.0</td>\n",
       "      <td>0.0</td>\n",
       "      <td>...</td>\n",
       "      <td>1.0</td>\n",
       "      <td>0.0</td>\n",
       "      <td>1.0</td>\n",
       "      <td>0.0</td>\n",
       "      <td>0.0</td>\n",
       "      <td>9</td>\n",
       "      <td>1.0</td>\n",
       "      <td>0</td>\n",
       "      <td>1</td>\n",
       "      <td>0</td>\n",
       "    </tr>\n",
       "    <tr>\n",
       "      <th>...</th>\n",
       "      <td>...</td>\n",
       "      <td>...</td>\n",
       "      <td>...</td>\n",
       "      <td>...</td>\n",
       "      <td>...</td>\n",
       "      <td>...</td>\n",
       "      <td>...</td>\n",
       "      <td>...</td>\n",
       "      <td>...</td>\n",
       "      <td>...</td>\n",
       "      <td>...</td>\n",
       "      <td>...</td>\n",
       "      <td>...</td>\n",
       "      <td>...</td>\n",
       "      <td>...</td>\n",
       "      <td>...</td>\n",
       "      <td>...</td>\n",
       "      <td>...</td>\n",
       "      <td>...</td>\n",
       "      <td>...</td>\n",
       "      <td>...</td>\n",
       "    </tr>\n",
       "    <tr>\n",
       "      <th>Å</th>\n",
       "      <td>80</td>\n",
       "      <td>9.0</td>\n",
       "      <td>0.0</td>\n",
       "      <td>1.0</td>\n",
       "      <td>0.0</td>\n",
       "      <td>6.0</td>\n",
       "      <td>0.0</td>\n",
       "      <td>3.0</td>\n",
       "      <td>0.0</td>\n",
       "      <td>0.0</td>\n",
       "      <td>...</td>\n",
       "      <td>0.0</td>\n",
       "      <td>0.0</td>\n",
       "      <td>0.0</td>\n",
       "      <td>0.0</td>\n",
       "      <td>0.0</td>\n",
       "      <td>3</td>\n",
       "      <td>1.0</td>\n",
       "      <td>0</td>\n",
       "      <td>1</td>\n",
       "      <td>0</td>\n",
       "    </tr>\n",
       "    <tr>\n",
       "      <th>Å</th>\n",
       "      <td>81</td>\n",
       "      <td>9.0</td>\n",
       "      <td>0.0</td>\n",
       "      <td>4.0</td>\n",
       "      <td>0.0</td>\n",
       "      <td>0.0</td>\n",
       "      <td>4.0</td>\n",
       "      <td>0.0</td>\n",
       "      <td>0.0</td>\n",
       "      <td>0.0</td>\n",
       "      <td>...</td>\n",
       "      <td>0.0</td>\n",
       "      <td>0.0</td>\n",
       "      <td>0.0</td>\n",
       "      <td>0.0</td>\n",
       "      <td>0.0</td>\n",
       "      <td>4</td>\n",
       "      <td>3.0</td>\n",
       "      <td>0</td>\n",
       "      <td>1</td>\n",
       "      <td>0</td>\n",
       "    </tr>\n",
       "    <tr>\n",
       "      <th>Å</th>\n",
       "      <td>82</td>\n",
       "      <td>12.0</td>\n",
       "      <td>0.0</td>\n",
       "      <td>0.0</td>\n",
       "      <td>0.0</td>\n",
       "      <td>6.0</td>\n",
       "      <td>3.0</td>\n",
       "      <td>0.0</td>\n",
       "      <td>0.0</td>\n",
       "      <td>0.0</td>\n",
       "      <td>...</td>\n",
       "      <td>0.0</td>\n",
       "      <td>0.0</td>\n",
       "      <td>0.0</td>\n",
       "      <td>0.0</td>\n",
       "      <td>0.0</td>\n",
       "      <td>12</td>\n",
       "      <td>2.0</td>\n",
       "      <td>0</td>\n",
       "      <td>0</td>\n",
       "      <td>1</td>\n",
       "    </tr>\n",
       "    <tr>\n",
       "      <th>Å</th>\n",
       "      <td>83</td>\n",
       "      <td>12.0</td>\n",
       "      <td>0.0</td>\n",
       "      <td>1.0</td>\n",
       "      <td>0.0</td>\n",
       "      <td>6.0</td>\n",
       "      <td>4.0</td>\n",
       "      <td>0.0</td>\n",
       "      <td>0.0</td>\n",
       "      <td>0.0</td>\n",
       "      <td>...</td>\n",
       "      <td>1.0</td>\n",
       "      <td>0.0</td>\n",
       "      <td>0.0</td>\n",
       "      <td>0.0</td>\n",
       "      <td>3.0</td>\n",
       "      <td>15</td>\n",
       "      <td>2.0</td>\n",
       "      <td>0</td>\n",
       "      <td>0</td>\n",
       "      <td>1</td>\n",
       "    </tr>\n",
       "    <tr>\n",
       "      <th>Å</th>\n",
       "      <td>84</td>\n",
       "      <td>9.0</td>\n",
       "      <td>1.0</td>\n",
       "      <td>0.0</td>\n",
       "      <td>0.0</td>\n",
       "      <td>6.0</td>\n",
       "      <td>3.0</td>\n",
       "      <td>0.0</td>\n",
       "      <td>0.0</td>\n",
       "      <td>0.0</td>\n",
       "      <td>...</td>\n",
       "      <td>0.0</td>\n",
       "      <td>0.0</td>\n",
       "      <td>0.0</td>\n",
       "      <td>0.0</td>\n",
       "      <td>0.0</td>\n",
       "      <td>6</td>\n",
       "      <td>2.0</td>\n",
       "      <td>0</td>\n",
       "      <td>1</td>\n",
       "      <td>0</td>\n",
       "    </tr>\n",
       "  </tbody>\n",
       "</table>\n",
       "<p>123 rows × 40 columns</p>\n",
       "</div>"
      ],
      "text/plain": [
       "        Kassenr  Anteroposterior 1  Anteroposterior 2  Vertical 1  Vertical 2  \\\n",
       "Center                                                                          \n",
       "H             1                0.0                0.0         0.0         0.0   \n",
       "H             2                9.0                0.0         0.0         0.0   \n",
       "H             3                9.0                0.0         0.0         0.0   \n",
       "H             4                0.0                0.0         0.0         0.0   \n",
       "H             5                9.0                0.0         1.0         0.0   \n",
       "...         ...                ...                ...         ...         ...   \n",
       "Å            80                9.0                0.0         1.0         0.0   \n",
       "Å            81                9.0                0.0         4.0         0.0   \n",
       "Å            82               12.0                0.0         0.0         0.0   \n",
       "Å            83               12.0                0.0         1.0         0.0   \n",
       "Å            84                9.0                1.0         0.0         0.0   \n",
       "\n",
       "        Transverse  Crowding   Spacing  Tooth shape/size\\r\\n  Pan 1  ...  \\\n",
       "Center                                                               ...   \n",
       "H              0.0        0.0      0.0                   0.0    0.0  ...   \n",
       "H              6.0        0.0      4.0                   0.0    0.0  ...   \n",
       "H              6.0        1.0      1.0                   1.0    0.0  ...   \n",
       "H              2.0        3.0      1.0                   0.0    0.0  ...   \n",
       "H              6.0        4.0      0.0                   1.0    0.0  ...   \n",
       "...            ...        ...      ...                   ...    ...  ...   \n",
       "Å              6.0        0.0      3.0                   0.0    0.0  ...   \n",
       "Å              0.0        4.0      0.0                   0.0    0.0  ...   \n",
       "Å              6.0        3.0      0.0                   0.0    0.0  ...   \n",
       "Å              6.0        4.0      0.0                   0.0    0.0  ...   \n",
       "Å              6.0        3.0      0.0                   0.0    0.0  ...   \n",
       "\n",
       "        Crowding .2  Spacing.2  Tooth shape/size\\r\\n.2  Pan 1.2  Pan 2\\r\\n.2  \\\n",
       "Center                                                                         \n",
       "H               0.0        0.0                     0.0      0.0          0.0   \n",
       "H               0.0        0.0                     0.0      0.0          0.0   \n",
       "H               0.0        0.0                     0.0      0.0          0.0   \n",
       "H               0.0        0.0                     0.0      0.0          0.0   \n",
       "H               1.0        0.0                     1.0      0.0          0.0   \n",
       "...             ...        ...                     ...      ...          ...   \n",
       "Å               0.0        0.0                     0.0      0.0          0.0   \n",
       "Å               0.0        0.0                     0.0      0.0          0.0   \n",
       "Å               0.0        0.0                     0.0      0.0          0.0   \n",
       "Å               1.0        0.0                     0.0      0.0          3.0   \n",
       "Å               0.0        0.0                     0.0      0.0          0.0   \n",
       "\n",
       "        Total Row Score C  Goslon Score C  Output  Output1  Output2  \n",
       "Center                                                               \n",
       "H                       0             0.0       1        0        0  \n",
       "H                       0             1.0       1        0        0  \n",
       "H                       8             1.0       0        1        0  \n",
       "H                       9             1.0       0        1        0  \n",
       "H                       9             1.0       0        1        0  \n",
       "...                   ...             ...     ...      ...      ...  \n",
       "Å                       3             1.0       0        1        0  \n",
       "Å                       4             3.0       0        1        0  \n",
       "Å                      12             2.0       0        0        1  \n",
       "Å                      15             2.0       0        0        1  \n",
       "Å                       6             2.0       0        1        0  \n",
       "\n",
       "[123 rows x 40 columns]"
      ]
     },
     "execution_count": 274,
     "metadata": {},
     "output_type": "execute_result"
    }
   ],
   "source": [
    "Output = df.apply(pin_update, axis=1)\n",
    "Output1 = df.apply(pin_update1, axis=1)\n",
    "Output2 = df.apply(pin_update2, axis=1)\n",
    "df['Output'] = Output\n",
    "df['Output1'] = Output1\n",
    "df['Output2']  = Output2\n",
    "df"
   ]
  },
  {
   "cell_type": "code",
   "execution_count": 275,
   "metadata": {},
   "outputs": [
    {
     "data": {
      "text/plain": [
       "(123, 19)"
      ]
     },
     "execution_count": 275,
     "metadata": {},
     "output_type": "execute_result"
    }
   ],
   "source": [
    "df1 = df[[\"Anteroposterior 1\",\n",
    "          'Anteroposterior 2',\n",
    "          'Vertical 1',\n",
    "          'Vertical 2',\n",
    "          'Transverse',\n",
    "          'Spacing',\n",
    "          'Pan 1',\n",
    "          'Total Row Score A',\n",
    "          'Anteroposterior 1.1',\n",
    "          'Anteroposterior 2.1',\n",
    "          'Vertical 1.1',\n",
    "          'Vertical 2.1',\n",
    "          'Transverse.1',\n",
    "          'Spacing.1',\n",
    "          'Pan 1.1',\n",
    "          'Total Row Score B',\n",
    "          'Output',\n",
    "          'Output1',\n",
    "          'Output2']]\n",
    "df1.iloc[1:, :]\n",
    "df1.shape"
   ]
  },
  {
   "cell_type": "code",
   "execution_count": 276,
   "metadata": {},
   "outputs": [
    {
     "name": "stderr",
     "output_type": "stream",
     "text": [
      "/var/folders/d5/qsvd0xbs3610vyxc_s5y8cv80000gn/T/ipykernel_62131/3501807047.py:8: SettingWithCopyWarning: \n",
      "A value is trying to be set on a copy of a slice from a DataFrame\n",
      "\n",
      "See the caveats in the documentation: https://pandas.pydata.org/pandas-docs/stable/user_guide/indexing.html#returning-a-view-versus-a-copy\n",
      "  df1.drop(target_column,axis=1,inplace=True)\n"
     ]
    }
   ],
   "source": [
    "scaler = MinMaxScaler()\n",
    "scaler.fit(df1)\n",
    "t_df = scaler.transform(df1)\n",
    "\n",
    "target_column = [\"Output\",'Output1','Output2']\n",
    "numerical_column = df1.columns.drop(target_column)\n",
    "output_rows = df1[target_column]\n",
    "df1.drop(target_column,axis=1,inplace=True)"
   ]
  },
  {
   "cell_type": "code",
   "execution_count": 277,
   "metadata": {},
   "outputs": [],
   "source": [
    "X_train, X_test, y_train, y_test = train_test_split(t_df, output_rows, test_size=0.25,shuffle=True)\n"
   ]
  },
  {
   "cell_type": "code",
   "execution_count": 278,
   "metadata": {},
   "outputs": [],
   "source": [
    " \n",
    "# estimator = KerasRegressor(model=model, epochs=15, batch_size=5, verbose=0)\n",
    "# kfold = KFold(n_splits=10, shuffle=True)\n",
    "# results = cross_val_score(estimator, X_test, y_test, cv=kfold)\n",
    "# print(results)\n",
    "# print(\"Baseline: %.2f%% (%.2f%%)\" % (results.mean()*100, results.std()*100))\n",
    "\n"
   ]
  },
  {
   "cell_type": "code",
   "execution_count": 279,
   "metadata": {},
   "outputs": [
    {
     "name": "stderr",
     "output_type": "stream",
     "text": [
      "WARNING:absl:At this time, the v2.11+ optimizer `tf.keras.optimizers.Adam` runs slowly on M1/M2 Macs, please use the legacy Keras optimizer instead, located at `tf.keras.optimizers.legacy.Adam`.\n"
     ]
    }
   ],
   "source": [
    "no_classes = 3\n",
    "no_epochs = 15\n",
    "optimizer = Adam()\n",
    "verbosity = 0\n",
    "num_folds = 5\n",
    "batch_size = 5\n",
    "acc_per_fold = []\n",
    "loss_per_fold = []"
   ]
  },
  {
   "cell_type": "code",
   "execution_count": 280,
   "metadata": {},
   "outputs": [],
   "source": [
    "inputs = np.concatenate((X_train, X_test), axis=0)\n",
    "targets = np.concatenate((y_train, y_test), axis=0)\n",
    "\n",
    "kfold = KFold(n_splits=num_folds, shuffle=True)"
   ]
  },
  {
   "cell_type": "code",
   "execution_count": 281,
   "metadata": {},
   "outputs": [
    {
     "name": "stdout",
     "output_type": "stream",
     "text": [
      "------------------------------------------------------------------------\n",
      "Training for fold 1 ...\n"
     ]
    },
    {
     "name": "stdout",
     "output_type": "stream",
     "text": [
      "Score for fold 1: loss of 0.6317228674888611; accuracy of 68.00000071525574%\n",
      "------------------------------------------------------------------------\n",
      "Training for fold 2 ...\n",
      "Score for fold 2: loss of 0.32192036509513855; accuracy of 100.0%\n",
      "------------------------------------------------------------------------\n",
      "Training for fold 3 ...\n",
      "Score for fold 3: loss of 0.7794662714004517; accuracy of 68.00000071525574%\n",
      "------------------------------------------------------------------------\n",
      "Training for fold 4 ...\n",
      "Score for fold 4: loss of 0.354339599609375; accuracy of 100.0%\n",
      "------------------------------------------------------------------------\n",
      "Training for fold 5 ...\n",
      "Score for fold 5: loss of 0.547879159450531; accuracy of 91.66666865348816%\n",
      "------------------------------------------------------------------------\n",
      "Score per fold\n",
      "------------------------------------------------------------------------\n",
      "> Fold 1 - Loss: 0.6317228674888611 - Accuracy: 68.00000071525574%\n",
      "------------------------------------------------------------------------\n",
      "> Fold 2 - Loss: 0.32192036509513855 - Accuracy: 100.0%\n",
      "------------------------------------------------------------------------\n",
      "> Fold 3 - Loss: 0.7794662714004517 - Accuracy: 68.00000071525574%\n",
      "------------------------------------------------------------------------\n",
      "> Fold 4 - Loss: 0.354339599609375 - Accuracy: 100.0%\n",
      "------------------------------------------------------------------------\n",
      "> Fold 5 - Loss: 0.547879159450531 - Accuracy: 91.66666865348816%\n",
      "------------------------------------------------------------------------\n",
      "Average scores for all folds:\n",
      "> Accuracy: 85.53333401679993 (+- 14.635724761217892)\n",
      "> Loss: 0.5270656526088715\n",
      "------------------------------------------------------------------------\n"
     ]
    }
   ],
   "source": [
    "for train, test in kfold.split(inputs, targets):\n",
    "    model = Sequential()\n",
    "    model.add(Dense(8, input_dim=19, activation='relu'))\n",
    "    #model.add(Dense(16, activation='relu'))\n",
    "    model.add(Dense(4,activation='relu'))\n",
    "    model.add(Dense(3, activation='softmax'))\n",
    " # Compile model\n",
    "    model.compile(loss='categorical_crossentropy' , optimizer='adam', metrics=['accuracy'])\n",
    "\n",
    "    # Generate a print\n",
    "    print('------------------------------------------------------------------------')\n",
    "    print(f'Training for fold {fold_no} ...')\n",
    "\n",
    "  # Fit data to model\n",
    "    history = model.fit(inputs[train], targets[train],\n",
    "              batch_size=batch_size,\n",
    "              epochs=no_epochs,\n",
    "              verbose=verbosity)\n",
    "\n",
    "  # Generate generalization metrics\n",
    "    scores = model.evaluate(inputs[test], targets[test], verbose=0)\n",
    "    print(f'Score for fold {fold_no}: {model.metrics_names[0]} of {scores[0]}; {model.metrics_names[1]} of {scores[1]*100}%')\n",
    "    acc_per_fold.append(scores[1] *100)\n",
    "    loss_per_fold.append(scores[0])\n",
    "\n",
    "  # Increase fold number\n",
    "    fold_no = fold_no + 1\n",
    "    \n",
    "fold_no = 1 \n",
    "\n",
    "# == Provide average scores ==\n",
    "print('------------------------------------------------------------------------')\n",
    "print('Score per fold')\n",
    "for i in range(0, len(acc_per_fold)):\n",
    "  print('------------------------------------------------------------------------')\n",
    "  print(f'> Fold {i+1} - Loss: {loss_per_fold[i]} - Accuracy: {acc_per_fold[i]}%')\n",
    "print('------------------------------------------------------------------------')\n",
    "print('Average scores for all folds:')\n",
    "print(f'> Accuracy: {np.mean(acc_per_fold)} (+- {np.std(acc_per_fold)})')\n",
    "print(f'> Loss: {np.mean(loss_per_fold)}')\n",
    "print('------------------------------------------------------------------------')"
   ]
  },
  {
   "cell_type": "code",
   "execution_count": 288,
   "metadata": {},
   "outputs": [
    {
     "name": "stdout",
     "output_type": "stream",
     "text": [
      "[12  0  2  6  1  0  6 27  0 12  0  2  6  1  0  6 27  0  0  0  0]\n"
     ]
    },
    {
     "data": {
      "text/plain": [
       "(21,)"
      ]
     },
     "execution_count": 288,
     "metadata": {},
     "output_type": "execute_result"
    }
   ],
   "source": [
    "\"Anteroposterior 1\",'Anteroposterior 2','Vertical 1','Vertical 2','Transverse','Spacing','Pan 1','Total Row Score A','Goslon Score A'\n",
    "\n",
    "          \n",
    "'Anteroposterior 1.1','Anteroposterior 2.1','Vertical 1.1', 'Vertical 2.1', 'Transverse.1', 'Spacing.1', 'Pan 1.1', 'Total Row Score B', 'Goslon Score B'\n",
    "\n",
    "\n",
    "\n",
    "xnew = np.array([12,0,2,6,1,0,6,0, 0, \n",
    "                 12,0,2,6,1,0,6, 0, 0,0,0,0])\n",
    "\n",
    "\n",
    "total_row_score(xnew)\n",
    "\n",
    "xnew.shape"
   ]
  },
  {
   "cell_type": "code",
   "execution_count": 289,
   "metadata": {},
   "outputs": [
    {
     "name": "stdout",
     "output_type": "stream",
     "text": [
      "1/1 [==============================] - 0s 22ms/step\n"
     ]
    },
    {
     "data": {
      "text/plain": [
       "(31, 3)"
      ]
     },
     "execution_count": 289,
     "metadata": {},
     "output_type": "execute_result"
    }
   ],
   "source": [
    "predicted = model.predict(X_test)\n",
    "\n",
    "predicted.shape\n",
    "\n"
   ]
  },
  {
   "cell_type": "code",
   "execution_count": 290,
   "metadata": {},
   "outputs": [
    {
     "data": {
      "text/plain": [
       "torch.Size([31, 3])"
      ]
     },
     "execution_count": 290,
     "metadata": {},
     "output_type": "execute_result"
    }
   ],
   "source": [
    "y_test.Output\n",
    "tensor = torch.tensor(y_test.values)\n",
    "tensor.shape"
   ]
  },
  {
   "cell_type": "code",
   "execution_count": 291,
   "metadata": {},
   "outputs": [
    {
     "name": "stdout",
     "output_type": "stream",
     "text": [
      "tf.Tensor(\n",
      "[[0.6241757  0.29498997 0.08083425]\n",
      " [0.01975046 0.08928413 0.89096546]\n",
      " [0.21534762 0.4519976  0.3326548 ]\n",
      " [0.02122064 0.0637159  0.91506344]\n",
      " [0.22892138 0.47817555 0.29290307]\n",
      " [0.36988303 0.40751356 0.22260346]\n",
      " [0.25464046 0.5048226  0.24053691]\n",
      " [0.27176315 0.46259454 0.26564237]\n",
      " [0.03065826 0.09448804 0.8748537 ]\n",
      " [0.03011906 0.10509682 0.86478406]\n",
      " [0.07345885 0.10259362 0.8239476 ]\n",
      " [0.02221208 0.11555399 0.8622339 ]\n",
      " [0.52976304 0.24312569 0.22711127]\n",
      " [0.33181185 0.44070926 0.22747886]\n",
      " [0.17934863 0.44374618 0.37690517]\n",
      " [0.35663456 0.52730614 0.11605923]\n",
      " [0.6102404  0.25005043 0.13970917]\n",
      " [0.20404375 0.61432844 0.18162784]\n",
      " [0.7046936  0.20615952 0.08914684]\n",
      " [0.00372428 0.03799662 0.958279  ]\n",
      " [0.0150435  0.08706883 0.89788765]\n",
      " [0.02402977 0.08504176 0.89092845]\n",
      " [0.22145383 0.4436107  0.33493552]\n",
      " [0.04701778 0.12540455 0.8275777 ]\n",
      " [0.00667171 0.04550748 0.94782084]\n",
      " [0.02433601 0.08701164 0.8886523 ]\n",
      " [0.38672245 0.36718345 0.24609412]\n",
      " [0.5202181  0.26740235 0.21237956]\n",
      " [0.15561596 0.49676704 0.34761697]\n",
      " [0.61164784 0.31868896 0.06966325]\n",
      " [0.00370828 0.04085547 0.9554362 ]], shape=(31, 3), dtype=float32)\n"
     ]
    },
    {
     "data": {
      "text/plain": [
       "<sklearn.metrics._plot.confusion_matrix.ConfusionMatrixDisplay at 0x333d56b50>"
      ]
     },
     "execution_count": 291,
     "metadata": {},
     "output_type": "execute_result"
    },
    {
     "data": {
      "image/png": "[encoded data removed]",
      "text/plain": [
       "<Figure size 640x480 with 1 Axes>"
      ]
     },
     "metadata": {},
     "output_type": "display_data"
    },
    {
     "data": {
      "image/png": "[encoded data removed]",
      "text/plain": [
       "<Figure size 640x480 with 2 Axes>"
      ]
     },
     "metadata": {},
     "output_type": "display_data"
    }
   ],
   "source": [
    "predicted = tf.squeeze(predicted)\n",
    "plt.plot(predicted)\n",
    "print(predicted)\n",
    "predicted = np.array([np.argmax(row) for row in predicted])\n",
    "actual = np.array([np.argmax(row) for row in tensor])\n",
    "conf_mat = confusion_matrix(actual, predicted)\n",
    "displ = ConfusionMatrixDisplay(confusion_matrix=conf_mat)\n",
    "displ.plot()"
   ]
  },
  {
   "cell_type": "code",
   "execution_count": 295,
   "metadata": {},
   "outputs": [
    {
     "data": {
      "text/plain": [
       "(19,)"
      ]
     },
     "execution_count": 295,
     "metadata": {},
     "output_type": "execute_result"
    }
   ],
   "source": [
    "\n",
    "\"Anteroposterior 1\",'Anteroposterior 2','Vertical 1','Vertical 2','Transverse','Spacing','Pan 1','Total Row Score A','Goslon Score A'\n",
    "\n",
    "          \n",
    "'Anteroposterior 1.1','Anteroposterior 2.1','Vertical 1.1', 'Vertical 2.1', 'Transverse.1', 'Spacing.1', 'Pan 1.1', 'Total Row Score B', 'Goslon Score B'\n",
    "\n",
    "xnew = np.array([12,0,2,0,4,0,0,18, \n",
    "                 0,0,0,0,0,0, 0, 0,0,0,0])\n",
    "\n",
    "\n",
    "#total_row_score(xnew)\n",
    "\n",
    "xnew.shape\n",
    "\n"
   ]
  },
  {
   "cell_type": "code",
   "execution_count": 296,
   "metadata": {},
   "outputs": [
    {
     "name": "stdout",
     "output_type": "stream",
     "text": [
      "1/1 [==============================] - 0s 198ms/step\n",
      "[0. 0. 1.]\n"
     ]
    }
   ],
   "source": [
    "prediction = model.predict(xnew.reshape(1,19))\n",
    "predicted = tf.squeeze(prediction)\n",
    "print(np.round(predicted))"
   ]
  },
  {
   "cell_type": "code",
   "execution_count": null,
   "metadata": {},
   "outputs": [],
   "source": []
  }
 ],
 "metadata": {
  "kernelspec": {
   "display_name": "Python 3",
   "language": "python",
   "name": "python3"
  },
  "language_info": {
   "codemirror_mode": {
    "name": "ipython",
    "version": 3
   },
   "file_extension": ".py",
   "mimetype": "text/x-python",
   "name": "python",
   "nbconvert_exporter": "python",
   "pygments_lexer": "ipython3",
   "version": "3.11.1"
  }
 },
 "nbformat": 4,
 "nbformat_minor": 2
}
