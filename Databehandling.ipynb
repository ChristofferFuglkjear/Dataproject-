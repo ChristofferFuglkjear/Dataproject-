{
 "cells": [
  {
   "cell_type": "code",
   "execution_count": 35,
   "metadata": {},
   "outputs": [],
   "source": [
    "import pandas as pd\n",
    "import numpy as np\n",
    "import matplotlib.pyplot as plt \n",
    "import sklearn\n",
    "from sklearn.metrics import confusion_matrix,ConfusionMatrixDisplay\n",
    "from sklearn.preprocessing import MinMaxScaler"
   ]
  },
  {
   "cell_type": "markdown",
   "metadata": {},
   "source": [
    "Cleaning the Data"
   ]
  },
  {
   "cell_type": "code",
   "execution_count": 36,
   "metadata": {},
   "outputs": [
    {
     "data": {
      "text/plain": [
       "(123, 19)"
      ]
     },
     "execution_count": 36,
     "metadata": {},
     "output_type": "execute_result"
    }
   ],
   "source": [
    "df = pd.read_csv('Data for python.csv', sep=';', header=1, index_col=0, decimal=',')\n",
    "df = df.drop(['Kassenr', 'ScandcleftID', 'Id', 'Født', 'Materialedato A',\n",
    "       'Total Row Score A', 'Goslon Score A', 'Materialedato B',\n",
    "       'Total Row Score B','Goslon Score B', 'Materialedato C',\n",
    "       'Anteroposterior 1.2', 'Anteroposterior 2.1', 'Vertical 1.2', \n",
    "       'Vertical 2.2', 'Transverse.2','Crowding .2', 'Spacing.2', \n",
    "       'Tooth shape/size\\r\\n.2', 'Pan 1.2','Pan 2\\r\\n.2', \n",
    "       'Goslon Score C', 'Pan 1', 'Pan 1.1'], axis=1)\n",
    "df.shape"
   ]
  },
  {
   "cell_type": "code",
   "execution_count": 37,
   "metadata": {},
   "outputs": [
    {
     "data": {
      "text/plain": [
       "(117, 19)"
      ]
     },
     "execution_count": 37,
     "metadata": {},
     "output_type": "execute_result"
    }
   ],
   "source": [
    "df = df.dropna()\n",
    "df.shape"
   ]
  },
  {
   "cell_type": "code",
   "execution_count": 38,
   "metadata": {},
   "outputs": [],
   "source": [
    "df.to_csv('Data for python_cleaned.csv', sep=';', decimal=',')"
   ]
  },
  {
   "cell_type": "markdown",
   "metadata": {},
   "source": [
    "Using Principal Components Analysis to reduce the number of features."
   ]
  },
  {
   "cell_type": "code",
   "execution_count": 39,
   "metadata": {},
   "outputs": [],
   "source": [
    "X = df.drop(['Total Row Score C'], axis=1).values\n",
    "\n",
    "# Normalizing the data\n",
    "scaler = MinMaxScaler()\n",
    "Xtilde = scaler.fit_transform(X)\n",
    "\n",
    "\n",
    "# Calculating the covariance matrix and the eigenvectors and eigenvalues\n",
    "cov_matrix = np.cov(Xtilde.T)\n",
    "eigenvalues, eigenvectors = np.linalg.eig(cov_matrix)\n",
    "\n",
    "\n",
    "# Sorting the eigenvalues and eigenvectors\n",
    "eigenvalues = sorted(eigenvalues, reverse=True)\n",
    "eigenvectors = eigenvectors[:, np.argsort(eigenvalues)[::-1]]\n",
    "Lambda = eigenvalues/sum(eigenvalues)\n",
    "\n",
    "\n",
    "# removing components until 95% of variance is explained\n",
    "cumsum = np.cumsum(Lambda)\n",
    "n_components = np.argmax(cumsum >= 0.95) + 1\n",
    "\n",
    "# Reducing the dimensionality of the data\n",
    "eigenvalues = eigenvalues[:n_components]\n",
    "eigenvectors = eigenvectors[:, :n_components]"
   ]
  }
 ],
 "metadata": {
  "kernelspec": {
   "display_name": "base",
   "language": "python",
   "name": "python3"
  },
  "language_info": {
   "codemirror_mode": {
    "name": "ipython",
    "version": 3
   },
   "file_extension": ".py",
   "mimetype": "text/x-python",
   "name": "python",
   "nbconvert_exporter": "python",
   "pygments_lexer": "ipython3",
   "version": "3.9.13"
  }
 },
 "nbformat": 4,
 "nbformat_minor": 2
}
