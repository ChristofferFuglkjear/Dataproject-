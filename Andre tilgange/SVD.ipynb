{
 "cells": [
  {
   "cell_type": "code",
   "execution_count": 99,
   "metadata": {},
   "outputs": [],
   "source": [
    "import pandas as pd\n",
    "import numpy as np\n",
    "import matplotlib.pyplot as plt \n",
    "import sklearn\n",
    "from sklearn.metrics import confusion_matrix,ConfusionMatrixDisplay\n",
    "from sklearn.preprocessing import MinMaxScaler\n",
    "from sklearn.decomposition import TruncatedSVD"
   ]
  },
  {
   "cell_type": "code",
   "execution_count": 100,
   "metadata": {},
   "outputs": [
    {
     "data": {
      "text/plain": [
       "(117, 19)"
      ]
     },
     "execution_count": 100,
     "metadata": {},
     "output_type": "execute_result"
    }
   ],
   "source": [
    "df = pd.read_csv('Data for python.csv', sep=';', header=1, index_col=0, decimal=',')\n",
    "df = df.drop(['Kassenr', 'ScandcleftID', 'Id', 'Født', 'Materialedato A',\n",
    "       'Total Row Score A', 'Goslon Score A', 'Materialedato B',\n",
    "       'Total Row Score B','Goslon Score B', 'Materialedato C',\n",
    "       'Anteroposterior 1.2', 'Anteroposterior 2.1', 'Vertical 1.2', \n",
    "       'Vertical 2.2', 'Transverse.2','Crowding .2', 'Spacing.2', \n",
    "       'Tooth shape/size\\r\\n.2', 'Pan 1.2','Pan 2\\r\\n.2', \n",
    "       'Goslon Score C', 'Pan 1', 'Pan 1.1'], axis=1)\n",
    "df = df.dropna()\n",
    "df.shape"
   ]
  },
  {
   "cell_type": "code",
   "execution_count": 101,
   "metadata": {},
   "outputs": [],
   "source": [
    "# Removing target column\n",
    "df = df.drop(['Total Row Score C'], axis=1)\n",
    "X = df.values"
   ]
  },
  {
   "cell_type": "code",
   "execution_count": 102,
   "metadata": {},
   "outputs": [],
   "source": [
    "# Singular value decomposition\n",
    "scaler = MinMaxScaler()\n",
    "X = scaler.fit_transform(X)\n",
    "\n",
    "# I want 95% of the variance to be explained\n",
    "svd = TruncatedSVD(n_components=14)\n",
    "X = svd.fit_transform(X)"
   ]
  },
  {
   "cell_type": "code",
   "execution_count": 103,
   "metadata": {},
   "outputs": [
    {
     "name": "stdout",
     "output_type": "stream",
     "text": [
      "0.9515589270275127\n"
     ]
    }
   ],
   "source": [
    "# 95% of the variance to be explained\n",
    "explained_variance = np.sum(svd.explained_variance_ratio_)\n",
    "print(explained_variance)"
   ]
  }
 ],
 "metadata": {
  "kernelspec": {
   "display_name": "base",
   "language": "python",
   "name": "python3"
  },
  "language_info": {
   "codemirror_mode": {
    "name": "ipython",
    "version": 3
   },
   "file_extension": ".py",
   "mimetype": "text/x-python",
   "name": "python",
   "nbconvert_exporter": "python",
   "pygments_lexer": "ipython3",
   "version": "3.9.13"
  }
 },
 "nbformat": 4,
 "nbformat_minor": 2
}
